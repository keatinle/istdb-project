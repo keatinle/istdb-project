{
 "cells": [
  {
   "cell_type": "code",
   "execution_count": 23,
   "metadata": {},
   "outputs": [],
   "source": [
    "import psycopg2  \n",
    "import pandas as pd\n",
    "##No transaction is started when commands are executed and no commit() or rollback() is required. \n",
    "from psycopg2.extensions import ISOLATION_LEVEL_AUTOCOMMIT"
   ]
  },
  {
   "cell_type": "code",
   "execution_count": 24,
   "metadata": {},
   "outputs": [],
   "source": [
    "db_config = dict(\n",
    "    user = \"postgres\",\n",
    "    password = \"leonel\",\n",
    "    host = \"localhost\",\n",
    "    port = \"5432\",\n",
    "    database = \"f1\"\n",
    ")"
   ]
  },
  {
   "cell_type": "code",
   "execution_count": 25,
   "metadata": {},
   "outputs": [
    {
     "name": "stdout",
     "output_type": "stream",
     "text": [
      "Connected Successfully to PostgreSQL server!!\n"
     ]
    }
   ],
   "source": [
    "#try:\n",
    "# Connect to the postgreSQL server with username, and password credentials\n",
    "con = psycopg2.connect(**db_config)\n",
    "    \n",
    "con.set_isolation_level(ISOLATION_LEVEL_AUTOCOMMIT);\n",
    "print(\"Connected Successfully to PostgreSQL server!!\")\n",
    "\n",
    "cursor = con.cursor()"
   ]
  },
  {
   "cell_type": "code",
   "execution_count": 26,
   "metadata": {},
   "outputs": [],
   "source": [
    "def exec_sql(sql):\n",
    "    try:\n",
    "        #Execute this command (SQL Query)\n",
    "        cursor.execute(sql)\n",
    "        \n",
    "        # Make the changes to the database persistent\n",
    "        con.commit()\n",
    "    except (Exception, psycopg2.Error) as error:\n",
    "        # if it exits with an exception the transaction is rolled back.\n",
    "        con.rollback()\n",
    "        print(\"Error While Creating the DB: \",error)"
   ]
  },
  {
   "cell_type": "code",
   "execution_count": 28,
   "metadata": {},
   "outputs": [],
   "source": [
    "#create all tables for the database\n",
    "\n",
    "exec_sql(''' CREATE TABLE IF NOT EXISTS drivers (\n",
    "                id INT PRIMARY KEY,\n",
    "                forename TEXT,\n",
    "                surname TEXT,\n",
    "                dob TEXT,\n",
    "                nationality TEXT\n",
    "                )''')\n",
    "                \n",
    "exec_sql('''\n",
    "            CREATE TABLE IF NOT EXISTS constructors (\n",
    "                id INT PRIMARY KEY,\n",
    "                name TEXT,\n",
    "                nationality TEXT\n",
    "                )\n",
    "            ''')\n",
    "exec_sql(\n",
    "            '''\n",
    "            CREATE TABLE IF NOT EXISTS circuits (\n",
    "                id INT PRIMARY KEY,\n",
    "                name TEXT,\n",
    "                country TEXT,\n",
    "                city TEXT,\n",
    "                altitude INT\n",
    "            )''')\n",
    "exec_sql('''\n",
    "            CREATE TABLE IF NOT EXISTS races (\n",
    "                id INT PRIMARY KEY,\n",
    "                name TEXT,\n",
    "                circuitId INT,\n",
    "                round INT,\n",
    "                season INT,\n",
    "                date TEXT\n",
    "            )\n",
    "            ''')\n",
    "exec_sql(\n",
    "            '''\n",
    "            CREATE TABLE IF NOT EXISTS results (\n",
    "                id INT PRIMARY KEY,\n",
    "                raceId INT,\n",
    "                driverId INT,\n",
    "                constructorId INT,\n",
    "                grid INT,\n",
    "                position INT,\n",
    "                points INT,\n",
    "                fastestLap INT,\n",
    "                statusId INT\n",
    "            )\n",
    "            ''')"
   ]
  },
  {
   "cell_type": "code",
   "execution_count": 29,
   "metadata": {},
   "outputs": [
    {
     "name": "stdout",
     "output_type": "stream",
     "text": [
      "Table (customer) created successfully in PostgreSQL \n"
     ]
    }
   ],
   "source": [
    "#Create \"Customer\" Table\n",
    "\n",
    "try:\n",
    "    #table_name variable\n",
    "    customerTable=\"customer\"\n",
    "    create_customerTablee_query = '''CREATE TABLE '''+ customerTable+''' \n",
    "              (id INT  PRIMARY KEY     NOT NULL,\n",
    "               name           TEXT    NOT NULL,\n",
    "               country        TEXT    NOT NULL,\n",
    "               email          TEXT   \n",
    "               ); '''\n",
    "\n",
    "    #Execute this command (SQL Query)\n",
    "    cursor.execute(create_customerTablee_query)\n",
    "    \n",
    "    # Make the changes to the database persistent\n",
    "    con.commit()\n",
    "    print(\"Table (\"+ customerTable +\") created successfully in PostgreSQL \")\n",
    "except (Exception, psycopg2.Error) as error:\n",
    "    # if it exits with an exception the transaction is rolled back.\n",
    "    con.rollback()\n",
    "    print(\"Error While Creating the DB: \",error)"
   ]
  },
  {
   "cell_type": "code",
   "execution_count": 30,
   "metadata": {},
   "outputs": [
    {
     "name": "stdout",
     "output_type": "stream",
     "text": [
      "5 Record inserted successfully into customers table\n"
     ]
    }
   ],
   "source": [
    "sql_insert_customers = \"INSERT INTO customer (id,name,country,email) VALUES(%s,%s,%s,%s)\"\n",
    "\n",
    "#list of customers (With Their attributes values)\n",
    "#None here means value will be missing in the table\n",
    "customer_List=[\n",
    "            (1, \"Mohamed Ragab\", \"Egypt\", \"mohamed.ragb@ut.ee\"),\n",
    "            (2,\"John Smith\", \"Finland\",\"j.smith@hotmail.com\"),\n",
    "            (3,\"Aisha Kareem\",\"India\",None),\n",
    "            (4,\"Jean Lime\",\"Canda\",\"jeanlime@gmail.com\"),\n",
    "            (5,\"Hassan Eldeeb\",\"Egypt\",None)]\n",
    "\n",
    "try:\n",
    "    # execute the INSERT statement\n",
    "    cursor.executemany(sql_insert_customers,customer_List)\n",
    "    # commit the changes to the database\n",
    "    con.commit()\n",
    "    #the number of inserted rows/tuples\n",
    "    count = cursor.rowcount\n",
    "    print (count, \"Record inserted successfully into customers table\")\n",
    "\n",
    "except (Exception, psycopg2.Error) as error :\n",
    "    con.rollback()\n",
    "    print (\"Error while Inserting the data to the table, Details: \",error)"
   ]
  }
 ],
 "metadata": {
  "kernelspec": {
   "display_name": "Python 3.10.6 64-bit",
   "language": "python",
   "name": "python3"
  },
  "language_info": {
   "codemirror_mode": {
    "name": "ipython",
    "version": 3
   },
   "file_extension": ".py",
   "mimetype": "text/x-python",
   "name": "python",
   "nbconvert_exporter": "python",
   "pygments_lexer": "ipython3",
   "version": "3.10.6"
  },
  "orig_nbformat": 4,
  "vscode": {
   "interpreter": {
    "hash": "aee8b7b246df8f9039afb4144a1f6fd8d2ca17a180786b69acc140d282b71a49"
   }
  }
 },
 "nbformat": 4,
 "nbformat_minor": 2
}
